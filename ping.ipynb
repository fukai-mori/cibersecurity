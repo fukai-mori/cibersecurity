{
  "nbformat": 4,
  "nbformat_minor": 0,
  "metadata": {
    "colab": {
      "name": "ping.ipynb",
      "provenance": [],
      "authorship_tag": "ABX9TyPVBPMnBACOpYDGYcO/2niQ",
      "include_colab_link": true
    },
    "kernelspec": {
      "name": "python3",
      "display_name": "Python 3"
    },
    "language_info": {
      "name": "python"
    }
  },
  "cells": [
    {
      "cell_type": "markdown",
      "metadata": {
        "id": "view-in-github",
        "colab_type": "text"
      },
      "source": [
        "<a href=\"https://colab.research.google.com/github/fukai-mori/cibersecurity/blob/main/ping.ipynb\" target=\"_parent\"><img src=\"https://colab.research.google.com/assets/colab-badge.svg\" alt=\"Open In Colab\"/></a>"
      ]
    },
    {
      "cell_type": "code",
      "execution_count": 1,
      "metadata": {
        "id": "VLJX9igbleyn"
      },
      "outputs": [],
      "source": [
        "import os"
      ]
    },
    {
      "cell_type": "code",
      "source": [
        "ip_or_host = input('Digite o IP ou host a ser verificado: ')\n",
        "os.system('ping -n 6 {}'.format(ip_or_host))"
      ],
      "metadata": {
        "id": "lmRTbRxOmDdf"
      },
      "execution_count": null,
      "outputs": []
    }
  ]
}